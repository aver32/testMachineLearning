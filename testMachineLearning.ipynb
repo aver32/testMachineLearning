{
  "nbformat": 4,
  "nbformat_minor": 0,
  "metadata": {
    "colab": {
      "provenance": []
    },
    "kernelspec": {
      "name": "python3",
      "display_name": "Python 3"
    },
    "language_info": {
      "name": "python"
    }
  },
  "cells": [
    {
      "cell_type": "code",
      "execution_count": 57,
      "metadata": {
        "id": "2Fptrq7EUTMC"
      },
      "outputs": [],
      "source": [
        "from transformers import AutoTokenizer, AutoModel\n",
        "from scipy.spatial.distance import cosine\n",
        "import torch\n"
      ]
    },
    {
      "cell_type": "code",
      "source": [
        "model_name = \"bert-base-multilingual-cased\"\n",
        "tokenizer = AutoTokenizer.from_pretrained(model_name)\n",
        "model = AutoModel.from_pretrained(model_name)"
      ],
      "metadata": {
        "id": "y6GdtWABmWnb"
      },
      "execution_count": 58,
      "outputs": []
    },
    {
      "cell_type": "code",
      "source": [
        "def get_embedding(sentence, tokenizer, model):\n",
        "    tokens = tokenizer.encode(sentence, add_special_tokens=True)\n",
        "    with torch.no_grad():\n",
        "        outputs = model(torch.tensor([tokens]))[0]\n",
        "        embedding = torch.mean(outputs, dim=1).squeeze().detach().numpy()\n",
        "    return embedding"
      ],
      "metadata": {
        "id": "D5xhKWtGgVWc"
      },
      "execution_count": 59,
      "outputs": []
    },
    {
      "cell_type": "code",
      "source": [
        "# Русские предложения\n",
        "sentence1_ru = \"Я люблю гулять в парке\"\n",
        "sentence2_ru = \"Я люблю гулять на улице\"\n",
        "embedding1_ru = get_embedding(sentence1_ru, tokenizer, model).flatten()\n",
        "embedding2_ru = get_embedding(sentence2_ru, tokenizer, model).flatten()\n",
        "distance_ru = cosine(embedding1_ru, embedding2_ru)"
      ],
      "metadata": {
        "id": "DdpVjw26lkQK"
      },
      "execution_count": 60,
      "outputs": []
    },
    {
      "cell_type": "code",
      "source": [
        "# Английские предложения\n",
        "sentence1_en = \"I love walking in the park\"\n",
        "sentence2_en = \"I'm iron man\"\n",
        "embedding1_en = get_embedding(sentence1_en, tokenizer, model).flatten()\n",
        "embedding2_en = get_embedding(sentence2_en, tokenizer, model).flatten()\n",
        "distance_en = cosine(embedding1_en, embedding2_en)"
      ],
      "metadata": {
        "id": "1D8XSuoQlmB8"
      },
      "execution_count": 61,
      "outputs": []
    },
    {
      "cell_type": "code",
      "source": [
        "print(\"Косинусное расстояние между русскими эмбеддингами:\", distance_ru)\n",
        "print(\"Cosine distance between English embeddings:\", distance_en)"
      ],
      "metadata": {
        "colab": {
          "base_uri": "https://localhost:8080/"
        },
        "id": "sxqeyOzxlqeV",
        "outputId": "1485c7c0-43e1-4b19-98af-9cbdafd5658d"
      },
      "execution_count": 62,
      "outputs": [
        {
          "output_type": "stream",
          "name": "stdout",
          "text": [
            "Косинусное расстояние между русскими эмбеддингами: 0.06227606534957886\n",
            "Cosine distance between English embeddings: 0.28975892066955566\n"
          ]
        }
      ]
    }
  ]
}